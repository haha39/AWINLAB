{
 "cells": [
  {
   "cell_type": "markdown",
   "metadata": {},
   "source": [
    "### **Step 1 : Setting the initial value**"
   ]
  },
  {
   "cell_type": "code",
   "execution_count": 36,
   "metadata": {},
   "outputs": [],
   "source": [
    "import random\n",
    "import matplotlib.pyplot as plt\n"
   ]
  },
  {
   "cell_type": "code",
   "execution_count": 37,
   "metadata": {},
   "outputs": [],
   "source": [
    "capacity = 170\n",
    "weights = [41, 50, 49, 59, 55, 57, 60]\n",
    "profits = [442, 525, 511, 593, 546, 564, 617]\n",
    "iterations = 100"
   ]
  },
  {
   "cell_type": "markdown",
   "metadata": {},
   "source": [
    "### **Step 2 : Building the methods that the hill_climbing() requires**"
   ]
  },
  {
   "cell_type": "code",
   "execution_count": 38,
   "metadata": {},
   "outputs": [],
   "source": [
    "def generate_random_solution():\n",
    "    '''\n",
    "    First of all, randomly generate a solution\n",
    "    '''\n",
    "    \n",
    "    return [random.randint(0, 1) for _ in range(len(weights))]"
   ]
  },
  {
   "cell_type": "code",
   "execution_count": 39,
   "metadata": {},
   "outputs": [],
   "source": [
    "def calculate_fitness(solution):\n",
    "    '''\n",
    "    Return total profit if total_weight <= self.capacity\n",
    "    '''\n",
    "    \n",
    "    total_weight = sum(solution[i] * weights[i]\n",
    "                        for i in range(len(weights)))\n",
    "    total_profit = sum(solution[i] * profits[i]\n",
    "                        for i in range(len(profits)))\n",
    "\n",
    "    return total_profit if total_weight <= capacity else 0"
   ]
  },
  {
   "cell_type": "markdown",
   "metadata": {},
   "source": [
    "### **Step 3 : Executing the Hill Climbing algorithm**"
   ]
  },
  {
   "cell_type": "code",
   "execution_count": 40,
   "metadata": {},
   "outputs": [],
   "source": [
    "def hill_climbing():\n",
    "\n",
    "    # randomly generate a solution\n",
    "    current_solution = generate_random_solution()\n",
    "    # calculate its total profit\n",
    "    current_fitness = calculate_fitness(current_solution)\n",
    "\n",
    "    convergence_values = [current_fitness]\n",
    "\n",
    "    # iteration = 100\n",
    "    for _ in range(iterations):\n",
    "\n",
    "        neighbor_solution = current_solution[:]\n",
    "        index_to_change = random.randint(0, len(neighbor_solution) - 1)\n",
    "        neighbor_solution[index_to_change] = 1 - \\\n",
    "            neighbor_solution[index_to_change]\n",
    "\n",
    "        # calculate neighbor's total profit\n",
    "        neighbor_fitness = calculate_fitness(neighbor_solution)\n",
    "\n",
    "        # update if it is better\n",
    "        if neighbor_fitness > current_fitness:\n",
    "            current_solution = neighbor_solution\n",
    "            current_fitness = neighbor_fitness\n",
    "\n",
    "        # collect the convergence values\n",
    "        convergence_values.append(current_fitness)\n",
    "\n",
    "    return convergence_values"
   ]
  },
  {
   "cell_type": "markdown",
   "metadata": {},
   "source": [
    "### **Step 4 : Charting the Convergence Values**"
   ]
  },
  {
   "cell_type": "code",
   "execution_count": 41,
   "metadata": {},
   "outputs": [],
   "source": [
    "def plot_convergence(convergence_values):\n",
    "    '''\n",
    "    Charting the Concessions\n",
    "    '''\n",
    "    plt.plot(range(len(convergence_values)), convergence_values)\n",
    "    plt.xlabel('Iterations')\n",
    "    plt.ylabel('Convergence Value')\n",
    "    plt.title('Convergence Plot')\n",
    "    plt.show()"
   ]
  },
  {
   "cell_type": "code",
   "execution_count": 42,
   "metadata": {},
   "outputs": [
    {
     "data": {
      "image/png": "[encoded data removed]",
      "text/plain": [
       "<Figure size 640x480 with 1 Axes>"
      ]
     },
     "metadata": {},
     "output_type": "display_data"
    }
   ],
   "source": [
    "# Hill Climbing algorithm\n",
    "convergence_values = hill_climbing()\n",
    "# Charting the Concessions\n",
    "plot_convergence(convergence_values)"
   ]
  }
 ],
 "metadata": {
  "kernelspec": {
   "display_name": "Python 3",
   "language": "python",
   "name": "python3"
  },
  "language_info": {
   "codemirror_mode": {
    "name": "ipython",
    "version": 3
   },
   "file_extension": ".py",
   "mimetype": "text/x-python",
   "name": "python",
   "nbconvert_exporter": "python",
   "pygments_lexer": "ipython3",
   "version": "3.9.6"
  }
 },
 "nbformat": 4,
 "nbformat_minor": 2
}
