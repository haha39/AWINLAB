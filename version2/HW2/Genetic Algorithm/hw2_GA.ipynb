{
 "cells": [
  {
   "cell_type": "code",
   "execution_count": 28,
   "metadata": {},
   "outputs": [],
   "source": [
    "import random\n",
    "import matplotlib.pyplot as plt\n"
   ]
  },
  {
   "cell_type": "markdown",
   "metadata": {},
   "source": []
  },
  {
   "cell_type": "code",
   "execution_count": 29,
   "metadata": {},
   "outputs": [],
   "source": [
    "capacity = 170\n",
    "weights = [41, 50, 49, 59, 55, 57, 60]\n",
    "profits = [442, 525, 511, 593, 546, 564, 617]\n",
    "population_size = 50\n",
    "generations = 100"
   ]
  },
  {
   "cell_type": "code",
   "execution_count": 30,
   "metadata": {},
   "outputs": [],
   "source": [
    "def generate_random_individual():\n",
    "    '''\n",
    "    First of all, randomly generate a solution\n",
    "    '''\n",
    "\n",
    "    return [random.randint(0, 1) for _ in range(len(weights))]"
   ]
  },
  {
   "cell_type": "markdown",
   "metadata": {},
   "source": []
  },
  {
   "cell_type": "code",
   "execution_count": 31,
   "metadata": {},
   "outputs": [],
   "source": [
    "def calculate_fitness(individual):\n",
    "    '''\n",
    "    Return total profit if total_weight <= self.capacity\n",
    "    '''\n",
    "    total_weight = sum(individual[i] * weights[i]\n",
    "                           for i in range(len(weights)))\n",
    "    total_profit = sum(individual[i] * profits[i]\n",
    "                           for i in range(len(profits)))\n",
    "\n",
    "    return total_profit if total_weight <= capacity else 0"
   ]
  },
  {
   "cell_type": "markdown",
   "metadata": {},
   "source": []
  },
  {
   "cell_type": "code",
   "execution_count": 32,
   "metadata": {},
   "outputs": [],
   "source": [
    "def generate_initial_population():\n",
    "    \"\"\"\n",
    "    generating initial population\n",
    "    \"\"\"\n",
    "\n",
    "    return [generate_random_individual() for _ in range(population_size)]"
   ]
  },
  {
   "cell_type": "markdown",
   "metadata": {},
   "source": []
  },
  {
   "cell_type": "code",
   "execution_count": 33,
   "metadata": {},
   "outputs": [],
   "source": [
    "def tournament_selection(population):\n",
    "    \"\"\"\n",
    "    Using tournament selection method to select individuals\n",
    "    \"\"\"\n",
    "    tournament_size = 3\n",
    "    tournament_individuals = random.sample(population, tournament_size)\n",
    "\n",
    "    return max(tournament_individuals, key=calculate_fitness)"
   ]
  },
  {
   "cell_type": "markdown",
   "metadata": {},
   "source": []
  },
  {
   "cell_type": "code",
   "execution_count": 34,
   "metadata": {},
   "outputs": [],
   "source": [
    "def crossover(parent1, parent2):\n",
    "    \"\"\"\n",
    "    Performing crossover, cutoff points are randomly generated.\n",
    "    \"\"\"\n",
    "    crossover_point = random.randint(0, len(parent1) - 1)\n",
    "    child = parent1[:crossover_point] + parent2[crossover_point:]\n",
    "\n",
    "    return child"
   ]
  },
  {
   "cell_type": "markdown",
   "metadata": {},
   "source": []
  },
  {
   "cell_type": "code",
   "execution_count": 35,
   "metadata": {},
   "outputs": [],
   "source": [
    "def mutation(individual):\n",
    "    \"\"\"\n",
    "    Performing mutation, cutoff points are randomly generated.\n",
    "    \"\"\"\n",
    "    mutation_point = random.randint(0, len(individual) - 1)\n",
    "    individual[mutation_point] = 1 - individual[mutation_point]\n",
    "\n",
    "    return individual"
   ]
  },
  {
   "cell_type": "markdown",
   "metadata": {},
   "source": []
  },
  {
   "cell_type": "code",
   "execution_count": 36,
   "metadata": {},
   "outputs": [],
   "source": [
    "def genetic_algorithm():\n",
    "    \"\"\"\n",
    "    Execute the genetic algorithm,\n",
    "        and collect the best fitness value of each generation during the convergence process\n",
    "    \"\"\"\n",
    "    # randomly generate a solution\n",
    "    population = generate_initial_population()\n",
    "    # calculate its total profit\n",
    "    convergence_values = [\n",
    "        max([calculate_fitness(individual) for individual in population])]\n",
    "\n",
    "    # iteration = 100\n",
    "    for _ in range(generations):\n",
    "        new_population = []\n",
    "\n",
    "        for _ in range(population_size):\n",
    "\n",
    "            parent1 = tournament_selection(population)\n",
    "            parent2 = tournament_selection(population)\n",
    "            child = crossover(parent1, parent2)\n",
    "\n",
    "            if random.random() < 0.1:  # Mutation rate\n",
    "                child = mutation(child)\n",
    "\n",
    "            new_population.append(child)\n",
    "\n",
    "        population = new_population\n",
    "\n",
    "        # collect the convergence values\n",
    "        convergence_values.append(\n",
    "            max([calculate_fitness(individual) for individual in population]))\n",
    "\n",
    "    return convergence_values"
   ]
  },
  {
   "cell_type": "markdown",
   "metadata": {},
   "source": []
  },
  {
   "cell_type": "code",
   "execution_count": 37,
   "metadata": {},
   "outputs": [],
   "source": [
    "def plot_convergence(convergence_values):\n",
    "    \"\"\"\n",
    "    Charting the Concessions\n",
    "    \"\"\"\n",
    "    plt.plot(range(len(convergence_values)), convergence_values)\n",
    "    plt.xlabel('Generations')\n",
    "    plt.ylabel('Convergence Value')\n",
    "    plt.title('Convergence Plot')\n",
    "    plt.show()"
   ]
  },
  {
   "cell_type": "markdown",
   "metadata": {},
   "source": []
  },
  {
   "cell_type": "code",
   "execution_count": 38,
   "metadata": {},
   "outputs": [
    {
     "data": {
      "image/png": "[encoded data removed]",
      "text/plain": [
       "<Figure size 640x480 with 1 Axes>"
      ]
     },
     "metadata": {},
     "output_type": "display_data"
    }
   ],
   "source": [
    "# Genetic algorithm\n",
    "convergence_values = genetic_algorithm()\n",
    "\n",
    "# Charting the Concessions\n",
    "plot_convergence(convergence_values)"
   ]
  }
 ],
 "metadata": {
  "kernelspec": {
   "display_name": "Python 3",
   "language": "python",
   "name": "python3"
  },
  "language_info": {
   "codemirror_mode": {
    "name": "ipython",
    "version": 3
   },
   "file_extension": ".py",
   "mimetype": "text/x-python",
   "name": "python",
   "nbconvert_exporter": "python",
   "pygments_lexer": "ipython3",
   "version": "3.9.6"
  }
 },
 "nbformat": 4,
 "nbformat_minor": 2
}
