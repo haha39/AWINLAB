{
  "cells": [
    {
      "cell_type": "markdown",
      "source": [
        "### **Step 1 : Setting the initial value**"
      ],
      "metadata": {
        "id": "PLXWi8oMHCQa"
      }
    },
    {
      "cell_type": "code",
      "execution_count": 235,
      "metadata": {
        "id": "uCERUSloZ10s"
      },
      "outputs": [],
      "source": [
        "import os\n",
        "\n",
        "import random\n",
        "\n",
        "import pandas as pd\n",
        "\n",
        "import matplotlib.pyplot as plt\n"
      ]
    },
    {
      "cell_type": "code",
      "source": [
        "from tensorflow import keras\n",
        "from keras.preprocessing.image import img_to_array\n",
        "from keras.applications.imagenet_utils import preprocess_input\n",
        "from keras.preprocessing.image import ImageDataGenerator\n",
        "from keras.models import Sequential\n",
        "from keras.layers import Conv2D, MaxPooling2D, Flatten, Dense, Dropout, Input, BatchNormalization\n",
        "from keras.optimizers import RMSprop\n",
        "from keras.regularizers import l2\n",
        "from keras.callbacks import ReduceLROnPlateau\n"
      ],
      "metadata": {
        "id": "Ls7dwKkazU2l"
      },
      "execution_count": 237,
      "outputs": []
    },
    {
      "cell_type": "code",
      "source": [
        "from google.colab import drive\n",
        "drive.mount('/content/drive')"
      ],
      "metadata": {
        "colab": {
          "base_uri": "https://localhost:8080/"
        },
        "id": "lOA2183_Twx_",
        "outputId": "81a98539-df53-49c1-a090-3f971510cd78"
      },
      "execution_count": 201,
      "outputs": [
        {
          "output_type": "stream",
          "name": "stdout",
          "text": [
            "Drive already mounted at /content/drive; to attempt to forcibly remount, call drive.mount(\"/content/drive\", force_remount=True).\n"
          ]
        }
      ]
    },
    {
      "cell_type": "markdown",
      "source": [
        "### **Step 2 : Building the CNN model**"
      ],
      "metadata": {
        "id": "RRfD1lwbeQEU"
      }
    },
    {
      "cell_type": "markdown",
      "source": [
        "* **新增了 Dropout 以及 L2regularization 技術，以避免 overfitting**"
      ],
      "metadata": {
        "id": "_OGHeZFcIMP3"
      }
    },
    {
      "cell_type": "code",
      "source": [
        "'''\n",
        "Create a convolutional neural network model(CNN) :\n",
        "With one separate input layer, three convolutional layers and a maximum pooling layer\n",
        "'''\n",
        "\n",
        "model = Sequential()\n",
        "\n",
        "model.add(Input(shape=(224, 224, 3)))\n",
        "\n",
        "model.add(Conv2D(32, (3, 3), activation='relu'))\n",
        "model.add(MaxPooling2D((2, 2)))\n",
        "\n",
        "model.add(Conv2D(64, (3, 3), activation='relu'))\n",
        "model.add(MaxPooling2D((2, 2)))\n",
        "\n",
        "model.add(Conv2D(128, (3, 3), activation='relu'))\n",
        "model.add(MaxPooling2D((2, 2)))\n",
        "\n",
        "model.add(Conv2D(128, (3, 3), activation='relu'))\n",
        "model.add(MaxPooling2D((2, 2)))\n",
        "# Flattenning 3D feature maps into 1D vectors\n",
        "model.add(Flatten())\n",
        "\n",
        "# Add full connectivity layer\n",
        "model.add(Dense(512, activation='relu'))\n",
        "\n",
        "# Add Dropout layer to prevent overfitting\n",
        "model.add(Dropout(0.5))\n",
        "\n",
        "# Add a fully connected layer and apply L2 regularization\n",
        "model.add(Dense(512, activation='relu', kernel_regularizer=l2(0.001)))\n",
        "\n",
        "# Output layer, outputs classification results(there are 15 dog breed categories)\n",
        "model.add(Dense(15, activation='softmax'))\n",
        "\n",
        "# compiling the model\n",
        "model.compile(optimizer='adam', loss='categorical_crossentropy',\n",
        "                      metrics=['accuracy'])\n",
        "\n",
        "# Printed Model Structures\n",
        "# model.summary()\n",
        "#return model"
      ],
      "metadata": {
        "id": "-u0aTqOyaCb7"
      },
      "execution_count": 232,
      "outputs": []
    },
    {
      "cell_type": "markdown",
      "source": [
        "### **Step 3 : Training the CNN model and using valid set to test it**"
      ],
      "metadata": {
        "id": "yflu3OcDeRB4"
      }
    },
    {
      "cell_type": "markdown",
      "source": [
        "* **優化 Learning Rate 的部分，以增加準確率**\n",
        "* **使用 `ImageDataGenerator()` 產生額外的影像資料作訓練，以避免 overfitting 以及增加準確率**\n"
      ],
      "metadata": {
        "id": "gE1DRyzgI62O"
      }
    },
    {
      "cell_type": "code",
      "source": [
        "learning_rate_function = ReduceLROnPlateau(monitor='val_accuracy',\n",
        "                patience=3,\n",
        "                verbose=1,\n",
        "                factor=0.5,\n",
        "                min_lr=0.00001)"
      ],
      "metadata": {
        "id": "99aTTPVGS-dp"
      },
      "execution_count": 231,
      "outputs": []
    },
    {
      "cell_type": "code",
      "source": [
        "#def train(train_dir, valid_dir, batch_size, epochs):\n",
        "\n",
        "train_dir = '/content/drive/MyDrive/archive/train'\n",
        "valid_dir = '/content/drive/MyDrive/archive/valid'\n",
        "\n",
        "batch_size = 64\n",
        "epochs = 20\n",
        "\n",
        "# Preprocessing and enhancement of training and validation data\n",
        "train_datagen = ImageDataGenerator(\n",
        "            rescale=1./255, shear_range=0.2, zoom_range=0.2, horizontal_flip=True)\n",
        "valid_datagen = ImageDataGenerator(rescale=1./255)\n",
        "\n",
        "# Generating data streams for training and validation sets\n",
        "train_generator = train_datagen.flow_from_directory(\n",
        "            train_dir,\n",
        "            target_size=(224, 224),\n",
        "            batch_size=batch_size,\n",
        "            class_mode='categorical'\n",
        "        )\n",
        "\n",
        "valid_generator = valid_datagen.flow_from_directory(\n",
        "            valid_dir,\n",
        "            target_size=(224, 224),\n",
        "            batch_size=batch_size,\n",
        "            class_mode='categorical'\n",
        "        )\n",
        "\n",
        "# Training the model\n",
        "train_history = model.fit(\n",
        "            train_generator,\n",
        "            steps_per_epoch=min(train_generator.samples // batch_size, 150),\n",
        "            epochs=epochs,\n",
        "            validation_data=valid_generator,\n",
        "            validation_steps=valid_generator.samples // batch_size,\n",
        "            callbacks=[learning_rate_function]\n",
        "        )\n"
      ],
      "metadata": {
        "id": "KHe-avw7bZrv",
        "colab": {
          "base_uri": "https://localhost:8080/"
        },
        "outputId": "d4819e9b-7c8f-4f02-b7d6-adbab04e8342"
      },
      "execution_count": 204,
      "outputs": [
        {
          "output_type": "stream",
          "name": "stdout",
          "text": [
            "Found 1714 images belonging to 15 classes.\n",
            "Found 150 images belonging to 15 classes.\n",
            "Epoch 1/20\n",
            "26/26 [==============================] - 23s 813ms/step - loss: 3.0982 - accuracy: 0.0758 - val_loss: 2.9830 - val_accuracy: 0.1172 - lr: 0.0010\n",
            "Epoch 2/20\n",
            "26/26 [==============================] - 22s 848ms/step - loss: 2.8163 - accuracy: 0.1345 - val_loss: 2.5765 - val_accuracy: 0.1953 - lr: 0.0010\n",
            "Epoch 3/20\n",
            "26/26 [==============================] - 22s 857ms/step - loss: 2.5696 - accuracy: 0.1824 - val_loss: 2.5401 - val_accuracy: 0.1484 - lr: 0.0010\n",
            "Epoch 4/20\n",
            "26/26 [==============================] - 22s 839ms/step - loss: 2.3770 - accuracy: 0.2388 - val_loss: 2.2594 - val_accuracy: 0.3125 - lr: 0.0010\n",
            "Epoch 5/20\n",
            "26/26 [==============================] - 22s 850ms/step - loss: 2.2235 - accuracy: 0.2745 - val_loss: 2.0748 - val_accuracy: 0.3359 - lr: 0.0010\n",
            "Epoch 6/20\n",
            "26/26 [==============================] - 22s 854ms/step - loss: 2.1379 - accuracy: 0.3248 - val_loss: 2.0160 - val_accuracy: 0.3281 - lr: 0.0010\n",
            "Epoch 7/20\n",
            "26/26 [==============================] - 22s 848ms/step - loss: 2.0336 - accuracy: 0.3697 - val_loss: 1.8961 - val_accuracy: 0.4062 - lr: 0.0010\n",
            "Epoch 8/20\n",
            "26/26 [==============================] - 22s 837ms/step - loss: 1.9162 - accuracy: 0.3970 - val_loss: 1.8480 - val_accuracy: 0.4297 - lr: 0.0010\n",
            "Epoch 9/20\n",
            "26/26 [==============================] - 22s 855ms/step - loss: 1.8314 - accuracy: 0.4139 - val_loss: 1.7114 - val_accuracy: 0.4766 - lr: 0.0010\n",
            "Epoch 10/20\n",
            "26/26 [==============================] - 22s 860ms/step - loss: 1.7158 - accuracy: 0.4594 - val_loss: 1.5760 - val_accuracy: 0.5156 - lr: 0.0010\n",
            "Epoch 11/20\n",
            "26/26 [==============================] - 22s 842ms/step - loss: 1.6297 - accuracy: 0.4770 - val_loss: 1.6740 - val_accuracy: 0.5000 - lr: 0.0010\n",
            "Epoch 12/20\n",
            "26/26 [==============================] - 23s 876ms/step - loss: 1.5812 - accuracy: 0.4994 - val_loss: 1.8107 - val_accuracy: 0.4844 - lr: 0.0010\n",
            "Epoch 13/20\n",
            "26/26 [==============================] - 23s 890ms/step - loss: 1.4751 - accuracy: 0.5412 - val_loss: 1.4663 - val_accuracy: 0.5391 - lr: 0.0010\n",
            "Epoch 14/20\n",
            "26/26 [==============================] - 23s 878ms/step - loss: 1.4597 - accuracy: 0.5382 - val_loss: 1.7675 - val_accuracy: 0.4375 - lr: 0.0010\n",
            "Epoch 15/20\n",
            "26/26 [==============================] - 23s 866ms/step - loss: 1.3667 - accuracy: 0.5764 - val_loss: 1.5297 - val_accuracy: 0.5156 - lr: 0.0010\n",
            "Epoch 16/20\n",
            "26/26 [==============================] - ETA: 0s - loss: 1.2364 - accuracy: 0.6079\n",
            "Epoch 16: ReduceLROnPlateau reducing learning rate to 0.0005000000237487257.\n",
            "26/26 [==============================] - 22s 858ms/step - loss: 1.2364 - accuracy: 0.6079 - val_loss: 1.7412 - val_accuracy: 0.4375 - lr: 0.0010\n",
            "Epoch 17/20\n",
            "26/26 [==============================] - 23s 879ms/step - loss: 1.1708 - accuracy: 0.6345 - val_loss: 1.4414 - val_accuracy: 0.5469 - lr: 5.0000e-04\n",
            "Epoch 18/20\n",
            "26/26 [==============================] - 24s 908ms/step - loss: 1.0437 - accuracy: 0.6739 - val_loss: 1.4505 - val_accuracy: 0.5703 - lr: 5.0000e-04\n",
            "Epoch 19/20\n",
            "26/26 [==============================] - 23s 893ms/step - loss: 1.0214 - accuracy: 0.6727 - val_loss: 1.3972 - val_accuracy: 0.5859 - lr: 5.0000e-04\n",
            "Epoch 20/20\n",
            "26/26 [==============================] - 24s 911ms/step - loss: 0.9520 - accuracy: 0.7224 - val_loss: 1.3294 - val_accuracy: 0.5938 - lr: 5.0000e-04\n"
          ]
        }
      ]
    },
    {
      "cell_type": "markdown",
      "source": [
        "### **Step 4 : Showing the Valid set Accuracy**"
      ],
      "metadata": {
        "id": "s1f9SVr6FTkU"
      }
    },
    {
      "cell_type": "markdown",
      "source": [
        "> **從上次的48%進步至62%**"
      ],
      "metadata": {
        "id": "HRNeHBkQMR1n"
      }
    },
    {
      "cell_type": "code",
      "source": [
        "# Calculating accuracy\n",
        "scores = model.evaluate(\n",
        "            valid_generator, steps=valid_generator.samples // batch_size)\n",
        "validation_accuracy = scores[1] * 100\n",
        "\n",
        "print(\"\\nValid set Accuracy: %.2f%%\\n\" % validation_accuracy)"
      ],
      "metadata": {
        "colab": {
          "base_uri": "https://localhost:8080/"
        },
        "id": "cyr2NYMdFUbh",
        "outputId": "422e5d9e-94e9-41f7-99c0-383634c6b3a4"
      },
      "execution_count": 223,
      "outputs": [
        {
          "output_type": "stream",
          "name": "stdout",
          "text": [
            "2/2 [==============================] - 1s 247ms/step - loss: 1.2879 - accuracy: 0.6172\n",
            "\n",
            "Valid set Accuracy: 61.72%\n",
            "\n"
          ]
        }
      ]
    },
    {
      "cell_type": "code",
      "source": [
        "def show_train_history(train_history, train, validation):\n",
        "  train_acc = train_history.history['accuracy']\n",
        "  val_acc = train_history.history['val_accuracy']\n",
        "\n",
        "  plt.plot(range(1, len(train_acc) + 1), train_acc, label='Training Accuracy')\n",
        "  plt.plot(range(1, len(val_acc) + 1), val_acc, label='Validation Accuracy')\n",
        "  plt.title('Training and Validation Accuracy')\n",
        "  plt.xlabel('Epochs')\n",
        "  plt.ylabel('Accuracy')\n",
        "  plt.legend()\n",
        "  plt.show()"
      ],
      "metadata": {
        "id": "rMUMyeJhFEZN"
      },
      "execution_count": 225,
      "outputs": []
    },
    {
      "cell_type": "code",
      "source": [
        "show_train_history(train_history, 'accuracy', 'val_accuracy')"
      ],
      "metadata": {
        "colab": {
          "base_uri": "https://localhost:8080/",
          "height": 472
        },
        "id": "RH3_0U13Fa5h",
        "outputId": "f1201030-ffe0-4553-b2c1-c89b1ee7081e"
      },
      "execution_count": 226,
      "outputs": [
        {
          "output_type": "display_data",
          "data": {
            "text/plain": [
              "<Figure size 640x480 with 1 Axes>"
            ],
            "image/png": "[encoded data removed]"
          },
          "metadata": {}
        }
      ]
    },
    {
      "cell_type": "markdown",
      "source": [
        "### **Step 5 : Using the testing_set to test my model**"
      ],
      "metadata": {
        "id": "KO5_ymTLeR2g"
      }
    },
    {
      "cell_type": "markdown",
      "source": [
        "* **改用`resize()`解決測試集影像大小與訓練集影像大小不一的問題，以提高 Test.xlsx 類別的平均程度**"
      ],
      "metadata": {
        "id": "5RzN1BbYeSn8"
      }
    },
    {
      "cell_type": "code",
      "source": [
        "def resize_image(img, target_size=(224, 224)):\n",
        "    '''\n",
        "    Resize image using bilinear interpolation method\n",
        "    '''\n",
        "    resized_img = cv2.resize(img, target_size, interpolation=cv2.INTER_LINEAR)\n",
        "\n",
        "    return resized_img"
      ],
      "metadata": {
        "id": "6KWjLmV8bvdt"
      },
      "execution_count": 230,
      "outputs": []
    },
    {
      "cell_type": "code",
      "source": [
        "import cv2\n",
        "from PIL import Image\n"
      ],
      "metadata": {
        "id": "RumCX0ngkTBJ"
      },
      "execution_count": 228,
      "outputs": []
    },
    {
      "cell_type": "code",
      "source": [
        "def get_predicted_breed(predictions):\n",
        "  '''\n",
        "  To get the dog breed name based on the model predictions,\n",
        "  assume that predictions is the result of the model's prediction of the image,\n",
        "  determine the predicted breed based on the index of the highest probability in the probability vector\n",
        "  '''\n",
        "\n",
        "  class_names = [\"Airedale\", \"Beagle\", \"Bloodhound\", \"Bluetick\", \"Chihuahua\", \"Collie\", \"Dingo\",\n",
        "                            \"French Bulldog\", \"German Sheperd\", \"Malinois\", \"Newfoundland\", \"Pekinese\",\n",
        "                            \"Pomeranian\", \"Pug\", \"Vizsla\"]\n",
        "\n",
        "  breed_index = predictions.argmax()\n",
        "  breed_name = class_names[breed_index]\n",
        "\n",
        "  return breed_name"
      ],
      "metadata": {
        "id": "H4pgwTMZb1Re"
      },
      "execution_count": 229,
      "outputs": []
    },
    {
      "cell_type": "code",
      "source": [
        "#def test(test_dir):\n",
        "\n",
        "test_dir = '/content/drive/MyDrive/archive/testing_set'\n",
        "\n",
        "# Getting test set file address\n",
        "test_files = os.listdir(test_dir)\n",
        "# To be fair, the order of access is randomized.\n",
        "random.shuffle(test_files)\n",
        "\n",
        "test_results = []\n",
        "\n",
        "for file_name in test_files:\n",
        "\n",
        "  # Load image with center crop and preprocessing\n",
        "  img_path = os.path.join(test_dir, file_name)\n",
        "  img = Image.open(img_path)\n",
        "  img_array = img_to_array(img)\n",
        "\n",
        "  # resize\n",
        "  img_array = resize_image(img_array, target_size=(224, 224))\n",
        "  img_array = preprocess_input(img_array)\n",
        "  img_array = img_array.reshape((1,) + img_array.shape)\n",
        "\n",
        "  # Making predictions about the image\n",
        "  predictions = model.predict(img_array)\n",
        "  predicted_breed = get_predicted_breed(predictions)\n",
        "\n",
        "  test_results.append((file_name, predicted_breed))\n",
        "\n",
        "  # Output results into Excel(no need title)\n",
        "  df = pd.DataFrame(test_results, columns=[\n",
        "                        'File Name', 'Predicted Breed'])\n",
        "  df.to_excel('test_data.xlsx', index=False, header=False)\n",
        "\n",
        "print(\"Test results saved to test_data.xlsx\")"
      ],
      "metadata": {
        "id": "WQy9Mqhdb6bf",
        "colab": {
          "base_uri": "https://localhost:8080/"
        },
        "outputId": "530e7f37-f83f-46f1-ca5c-a5adcc13a05f"
      },
      "execution_count": 211,
      "outputs": [
        {
          "output_type": "stream",
          "name": "stdout",
          "text": [
            "1/1 [==============================] - 0s 103ms/step\n",
            "1/1 [==============================] - 0s 20ms/step\n",
            "1/1 [==============================] - 0s 23ms/step\n",
            "1/1 [==============================] - 0s 29ms/step\n",
            "1/1 [==============================] - 0s 20ms/step\n",
            "1/1 [==============================] - 0s 20ms/step\n",
            "1/1 [==============================] - 0s 22ms/step\n",
            "1/1 [==============================] - 0s 20ms/step\n",
            "1/1 [==============================] - 0s 21ms/step\n",
            "1/1 [==============================] - 0s 20ms/step\n",
            "1/1 [==============================] - 0s 20ms/step\n",
            "1/1 [==============================] - 0s 20ms/step\n",
            "1/1 [==============================] - 0s 20ms/step\n",
            "1/1 [==============================] - 0s 21ms/step\n",
            "1/1 [==============================] - 0s 20ms/step\n",
            "1/1 [==============================] - 0s 20ms/step\n",
            "1/1 [==============================] - 0s 20ms/step\n",
            "1/1 [==============================] - 0s 21ms/step\n",
            "1/1 [==============================] - 0s 20ms/step\n",
            "1/1 [==============================] - 0s 20ms/step\n",
            "1/1 [==============================] - 0s 20ms/step\n",
            "1/1 [==============================] - 0s 20ms/step\n",
            "1/1 [==============================] - 0s 20ms/step\n",
            "1/1 [==============================] - 0s 19ms/step\n",
            "1/1 [==============================] - 0s 20ms/step\n",
            "1/1 [==============================] - 0s 19ms/step\n",
            "1/1 [==============================] - 0s 20ms/step\n",
            "1/1 [==============================] - 0s 19ms/step\n",
            "1/1 [==============================] - 0s 20ms/step\n",
            "1/1 [==============================] - 0s 21ms/step\n",
            "1/1 [==============================] - 0s 21ms/step\n",
            "1/1 [==============================] - 0s 20ms/step\n",
            "1/1 [==============================] - 0s 20ms/step\n",
            "1/1 [==============================] - 0s 20ms/step\n",
            "1/1 [==============================] - 0s 20ms/step\n",
            "1/1 [==============================] - 0s 19ms/step\n",
            "1/1 [==============================] - 0s 19ms/step\n",
            "1/1 [==============================] - 0s 19ms/step\n",
            "1/1 [==============================] - 0s 22ms/step\n",
            "1/1 [==============================] - 0s 21ms/step\n",
            "1/1 [==============================] - 0s 20ms/step\n",
            "1/1 [==============================] - 0s 20ms/step\n",
            "1/1 [==============================] - 0s 20ms/step\n",
            "1/1 [==============================] - 0s 20ms/step\n",
            "1/1 [==============================] - 0s 20ms/step\n",
            "1/1 [==============================] - 0s 21ms/step\n",
            "1/1 [==============================] - 0s 20ms/step\n",
            "1/1 [==============================] - 0s 19ms/step\n",
            "1/1 [==============================] - 0s 20ms/step\n",
            "1/1 [==============================] - 0s 20ms/step\n",
            "1/1 [==============================] - 0s 21ms/step\n",
            "1/1 [==============================] - 0s 20ms/step\n",
            "1/1 [==============================] - 0s 20ms/step\n",
            "1/1 [==============================] - 0s 19ms/step\n",
            "1/1 [==============================] - 0s 20ms/step\n",
            "1/1 [==============================] - 0s 20ms/step\n",
            "1/1 [==============================] - 0s 20ms/step\n",
            "1/1 [==============================] - 0s 20ms/step\n",
            "1/1 [==============================] - 0s 21ms/step\n",
            "1/1 [==============================] - 0s 20ms/step\n",
            "1/1 [==============================] - 0s 20ms/step\n",
            "1/1 [==============================] - 0s 19ms/step\n",
            "1/1 [==============================] - 0s 21ms/step\n",
            "1/1 [==============================] - 0s 20ms/step\n",
            "1/1 [==============================] - 0s 20ms/step\n",
            "1/1 [==============================] - 0s 20ms/step\n",
            "1/1 [==============================] - 0s 21ms/step\n",
            "1/1 [==============================] - 0s 21ms/step\n",
            "1/1 [==============================] - 0s 20ms/step\n",
            "1/1 [==============================] - 0s 21ms/step\n",
            "1/1 [==============================] - 0s 21ms/step\n",
            "1/1 [==============================] - 0s 22ms/step\n",
            "1/1 [==============================] - 0s 20ms/step\n",
            "1/1 [==============================] - 0s 21ms/step\n",
            "1/1 [==============================] - 0s 21ms/step\n",
            "1/1 [==============================] - 0s 20ms/step\n",
            "1/1 [==============================] - 0s 20ms/step\n",
            "1/1 [==============================] - 0s 20ms/step\n",
            "1/1 [==============================] - 0s 20ms/step\n",
            "1/1 [==============================] - 0s 21ms/step\n",
            "1/1 [==============================] - 0s 20ms/step\n",
            "1/1 [==============================] - 0s 20ms/step\n",
            "1/1 [==============================] - 0s 20ms/step\n",
            "1/1 [==============================] - 0s 20ms/step\n",
            "1/1 [==============================] - 0s 20ms/step\n",
            "1/1 [==============================] - 0s 20ms/step\n",
            "1/1 [==============================] - 0s 21ms/step\n",
            "1/1 [==============================] - 0s 21ms/step\n",
            "1/1 [==============================] - 0s 20ms/step\n",
            "1/1 [==============================] - 0s 20ms/step\n",
            "1/1 [==============================] - 0s 21ms/step\n",
            "1/1 [==============================] - 0s 20ms/step\n",
            "1/1 [==============================] - 0s 21ms/step\n",
            "1/1 [==============================] - 0s 21ms/step\n",
            "1/1 [==============================] - 0s 20ms/step\n",
            "1/1 [==============================] - 0s 20ms/step\n",
            "1/1 [==============================] - 0s 20ms/step\n",
            "1/1 [==============================] - 0s 20ms/step\n",
            "1/1 [==============================] - 0s 20ms/step\n",
            "1/1 [==============================] - 0s 19ms/step\n",
            "1/1 [==============================] - 0s 20ms/step\n",
            "1/1 [==============================] - 0s 20ms/step\n",
            "1/1 [==============================] - 0s 20ms/step\n",
            "1/1 [==============================] - 0s 20ms/step\n",
            "1/1 [==============================] - 0s 21ms/step\n",
            "1/1 [==============================] - 0s 21ms/step\n",
            "1/1 [==============================] - 0s 20ms/step\n",
            "1/1 [==============================] - 0s 20ms/step\n",
            "1/1 [==============================] - 0s 20ms/step\n",
            "1/1 [==============================] - 0s 21ms/step\n",
            "1/1 [==============================] - 0s 21ms/step\n",
            "1/1 [==============================] - 0s 20ms/step\n",
            "1/1 [==============================] - 0s 20ms/step\n",
            "1/1 [==============================] - 0s 21ms/step\n",
            "1/1 [==============================] - 0s 19ms/step\n",
            "1/1 [==============================] - 0s 20ms/step\n",
            "1/1 [==============================] - 0s 21ms/step\n",
            "1/1 [==============================] - 0s 23ms/step\n",
            "1/1 [==============================] - 0s 20ms/step\n",
            "1/1 [==============================] - 0s 21ms/step\n",
            "1/1 [==============================] - 0s 22ms/step\n",
            "1/1 [==============================] - 0s 20ms/step\n",
            "1/1 [==============================] - 0s 20ms/step\n",
            "1/1 [==============================] - 0s 21ms/step\n",
            "1/1 [==============================] - 0s 21ms/step\n",
            "1/1 [==============================] - 0s 20ms/step\n",
            "1/1 [==============================] - 0s 20ms/step\n",
            "1/1 [==============================] - 0s 22ms/step\n",
            "1/1 [==============================] - 0s 20ms/step\n",
            "1/1 [==============================] - 0s 22ms/step\n",
            "1/1 [==============================] - 0s 21ms/step\n",
            "1/1 [==============================] - 0s 20ms/step\n",
            "1/1 [==============================] - 0s 20ms/step\n",
            "1/1 [==============================] - 0s 22ms/step\n",
            "1/1 [==============================] - 0s 21ms/step\n",
            "1/1 [==============================] - 0s 21ms/step\n",
            "1/1 [==============================] - 0s 20ms/step\n",
            "1/1 [==============================] - 0s 21ms/step\n",
            "1/1 [==============================] - 0s 21ms/step\n",
            "1/1 [==============================] - 0s 21ms/step\n",
            "1/1 [==============================] - 0s 20ms/step\n",
            "1/1 [==============================] - 0s 21ms/step\n",
            "1/1 [==============================] - 0s 21ms/step\n",
            "1/1 [==============================] - 0s 20ms/step\n",
            "1/1 [==============================] - 0s 20ms/step\n",
            "1/1 [==============================] - 0s 21ms/step\n",
            "1/1 [==============================] - 0s 21ms/step\n",
            "1/1 [==============================] - 0s 21ms/step\n",
            "1/1 [==============================] - 0s 22ms/step\n",
            "1/1 [==============================] - 0s 20ms/step\n",
            "1/1 [==============================] - 0s 21ms/step\n",
            "1/1 [==============================] - 0s 21ms/step\n",
            "1/1 [==============================] - 0s 21ms/step\n",
            "1/1 [==============================] - 0s 21ms/step\n",
            "1/1 [==============================] - 0s 20ms/step\n",
            "1/1 [==============================] - 0s 20ms/step\n",
            "1/1 [==============================] - 0s 19ms/step\n",
            "1/1 [==============================] - 0s 20ms/step\n",
            "1/1 [==============================] - 0s 20ms/step\n",
            "1/1 [==============================] - 0s 19ms/step\n",
            "1/1 [==============================] - 0s 21ms/step\n",
            "1/1 [==============================] - 0s 19ms/step\n",
            "1/1 [==============================] - 0s 20ms/step\n",
            "1/1 [==============================] - 0s 20ms/step\n",
            "1/1 [==============================] - 0s 20ms/step\n",
            "1/1 [==============================] - 0s 21ms/step\n",
            "1/1 [==============================] - 0s 19ms/step\n",
            "1/1 [==============================] - 0s 21ms/step\n",
            "1/1 [==============================] - 0s 21ms/step\n",
            "1/1 [==============================] - 0s 20ms/step\n",
            "1/1 [==============================] - 0s 20ms/step\n",
            "1/1 [==============================] - 0s 19ms/step\n",
            "1/1 [==============================] - 0s 19ms/step\n",
            "1/1 [==============================] - 0s 21ms/step\n",
            "1/1 [==============================] - 0s 20ms/step\n",
            "1/1 [==============================] - 0s 20ms/step\n",
            "1/1 [==============================] - 0s 20ms/step\n",
            "1/1 [==============================] - 0s 20ms/step\n",
            "1/1 [==============================] - 0s 19ms/step\n",
            "1/1 [==============================] - 0s 20ms/step\n",
            "1/1 [==============================] - 0s 20ms/step\n",
            "1/1 [==============================] - 0s 21ms/step\n",
            "1/1 [==============================] - 0s 20ms/step\n",
            "1/1 [==============================] - 0s 20ms/step\n",
            "1/1 [==============================] - 0s 20ms/step\n",
            "1/1 [==============================] - 0s 22ms/step\n",
            "1/1 [==============================] - 0s 20ms/step\n",
            "1/1 [==============================] - 0s 20ms/step\n",
            "1/1 [==============================] - 0s 20ms/step\n",
            "1/1 [==============================] - 0s 20ms/step\n",
            "1/1 [==============================] - 0s 19ms/step\n",
            "1/1 [==============================] - 0s 20ms/step\n",
            "1/1 [==============================] - 0s 20ms/step\n",
            "1/1 [==============================] - 0s 20ms/step\n",
            "1/1 [==============================] - 0s 21ms/step\n",
            "1/1 [==============================] - 0s 20ms/step\n",
            "1/1 [==============================] - 0s 20ms/step\n",
            "1/1 [==============================] - 0s 21ms/step\n",
            "1/1 [==============================] - 0s 20ms/step\n",
            "1/1 [==============================] - 0s 21ms/step\n",
            "1/1 [==============================] - 0s 21ms/step\n",
            "1/1 [==============================] - 0s 23ms/step\n",
            "1/1 [==============================] - 0s 20ms/step\n",
            "1/1 [==============================] - 0s 20ms/step\n",
            "1/1 [==============================] - 0s 20ms/step\n",
            "1/1 [==============================] - 0s 21ms/step\n",
            "1/1 [==============================] - 0s 19ms/step\n",
            "1/1 [==============================] - 0s 20ms/step\n",
            "1/1 [==============================] - 0s 21ms/step\n",
            "1/1 [==============================] - 0s 21ms/step\n",
            "1/1 [==============================] - 0s 20ms/step\n",
            "1/1 [==============================] - 0s 20ms/step\n",
            "1/1 [==============================] - 0s 19ms/step\n",
            "1/1 [==============================] - 0s 20ms/step\n",
            "1/1 [==============================] - 0s 20ms/step\n",
            "1/1 [==============================] - 0s 20ms/step\n",
            "1/1 [==============================] - 0s 21ms/step\n",
            "1/1 [==============================] - 0s 20ms/step\n",
            "1/1 [==============================] - 0s 21ms/step\n",
            "1/1 [==============================] - 0s 20ms/step\n",
            "1/1 [==============================] - 0s 20ms/step\n",
            "1/1 [==============================] - 0s 19ms/step\n",
            "1/1 [==============================] - 0s 21ms/step\n",
            "1/1 [==============================] - 0s 21ms/step\n",
            "1/1 [==============================] - 0s 21ms/step\n",
            "1/1 [==============================] - 0s 20ms/step\n",
            "1/1 [==============================] - 0s 21ms/step\n",
            "1/1 [==============================] - 0s 19ms/step\n",
            "1/1 [==============================] - 0s 21ms/step\n",
            "1/1 [==============================] - 0s 21ms/step\n",
            "1/1 [==============================] - 0s 20ms/step\n",
            "1/1 [==============================] - 0s 21ms/step\n",
            "1/1 [==============================] - 0s 21ms/step\n",
            "1/1 [==============================] - 0s 22ms/step\n",
            "1/1 [==============================] - 0s 21ms/step\n",
            "1/1 [==============================] - 0s 19ms/step\n",
            "1/1 [==============================] - 0s 20ms/step\n",
            "1/1 [==============================] - 0s 21ms/step\n",
            "1/1 [==============================] - 0s 21ms/step\n",
            "1/1 [==============================] - 0s 20ms/step\n",
            "1/1 [==============================] - 0s 21ms/step\n",
            "1/1 [==============================] - 0s 21ms/step\n",
            "1/1 [==============================] - 0s 20ms/step\n",
            "1/1 [==============================] - 0s 21ms/step\n",
            "1/1 [==============================] - 0s 21ms/step\n",
            "1/1 [==============================] - 0s 21ms/step\n",
            "1/1 [==============================] - 0s 21ms/step\n",
            "1/1 [==============================] - 0s 21ms/step\n",
            "1/1 [==============================] - 0s 21ms/step\n",
            "1/1 [==============================] - 0s 21ms/step\n",
            "1/1 [==============================] - 0s 21ms/step\n",
            "1/1 [==============================] - 0s 20ms/step\n",
            "1/1 [==============================] - 0s 23ms/step\n",
            "1/1 [==============================] - 0s 21ms/step\n",
            "1/1 [==============================] - 0s 20ms/step\n",
            "1/1 [==============================] - 0s 21ms/step\n",
            "1/1 [==============================] - 0s 23ms/step\n",
            "1/1 [==============================] - 0s 21ms/step\n",
            "1/1 [==============================] - 0s 20ms/step\n",
            "1/1 [==============================] - 0s 20ms/step\n",
            "1/1 [==============================] - 0s 19ms/step\n",
            "1/1 [==============================] - 0s 22ms/step\n",
            "1/1 [==============================] - 0s 21ms/step\n",
            "1/1 [==============================] - 0s 20ms/step\n",
            "1/1 [==============================] - 0s 21ms/step\n",
            "1/1 [==============================] - 0s 20ms/step\n",
            "1/1 [==============================] - 0s 20ms/step\n",
            "1/1 [==============================] - 0s 22ms/step\n",
            "1/1 [==============================] - 0s 22ms/step\n",
            "1/1 [==============================] - 0s 22ms/step\n",
            "1/1 [==============================] - 0s 21ms/step\n",
            "1/1 [==============================] - 0s 21ms/step\n",
            "1/1 [==============================] - 0s 22ms/step\n",
            "1/1 [==============================] - 0s 21ms/step\n",
            "1/1 [==============================] - 0s 20ms/step\n",
            "1/1 [==============================] - 0s 20ms/step\n",
            "1/1 [==============================] - 0s 21ms/step\n",
            "1/1 [==============================] - 0s 20ms/step\n",
            "1/1 [==============================] - 0s 21ms/step\n",
            "1/1 [==============================] - 0s 22ms/step\n",
            "1/1 [==============================] - 0s 21ms/step\n",
            "1/1 [==============================] - 0s 21ms/step\n",
            "1/1 [==============================] - 0s 19ms/step\n",
            "1/1 [==============================] - 0s 21ms/step\n",
            "1/1 [==============================] - 0s 21ms/step\n",
            "1/1 [==============================] - 0s 19ms/step\n",
            "1/1 [==============================] - 0s 20ms/step\n",
            "1/1 [==============================] - 0s 20ms/step\n",
            "1/1 [==============================] - 0s 20ms/step\n",
            "1/1 [==============================] - 0s 20ms/step\n",
            "1/1 [==============================] - 0s 20ms/step\n",
            "1/1 [==============================] - 0s 20ms/step\n",
            "1/1 [==============================] - 0s 20ms/step\n",
            "1/1 [==============================] - 0s 20ms/step\n",
            "1/1 [==============================] - 0s 20ms/step\n",
            "1/1 [==============================] - 0s 21ms/step\n",
            "1/1 [==============================] - 0s 19ms/step\n",
            "1/1 [==============================] - 0s 20ms/step\n",
            "1/1 [==============================] - 0s 21ms/step\n",
            "1/1 [==============================] - 0s 20ms/step\n",
            "Test results saved to test_data.xlsx\n"
          ]
        }
      ]
    }
  ],
  "metadata": {
    "language_info": {
      "name": "python"
    },
    "colab": {
      "provenance": [],
      "machine_shape": "hm",
      "gpuType": "V100"
    },
    "kernelspec": {
      "name": "python3",
      "display_name": "Python 3"
    },
    "accelerator": "GPU"
  },
  "nbformat": 4,
  "nbformat_minor": 0
}