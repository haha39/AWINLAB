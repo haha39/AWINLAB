{
  "cells": [
    {
      "cell_type": "markdown",
      "metadata": {
        "id": "view-in-github",
        "colab_type": "text"
      },
      "source": [
        "<a href=\"https://colab.research.google.com/github/haha39/AWINLAB/blob/main/version2/HW1/hw1.ipynb\" target=\"_parent\"><img src=\"https://colab.research.google.com/assets/colab-badge.svg\" alt=\"Open In Colab\"/></a>"
      ]
    },
    {
      "cell_type": "code",
      "source": [
        "!pip install keras"
      ],
      "metadata": {
        "id": "gs2Dmtq9fgky",
        "colab": {
          "base_uri": "https://localhost:8080/"
        },
        "outputId": "a1bca828-5842-44b1-fd74-09c14de57432"
      },
      "execution_count": 1,
      "outputs": [
        {
          "output_type": "stream",
          "name": "stdout",
          "text": [
            "Requirement already satisfied: keras in /usr/local/lib/python3.10/dist-packages (2.15.0)\n"
          ]
        }
      ]
    },
    {
      "cell_type": "code",
      "source": [
        "!pip install tensorflow"
      ],
      "metadata": {
        "id": "KM6l71HeiwXU",
        "colab": {
          "base_uri": "https://localhost:8080/"
        },
        "outputId": "61874315-efef-4fda-be32-3fe52fe6630c"
      },
      "execution_count": 2,
      "outputs": [
        {
          "output_type": "stream",
          "name": "stdout",
          "text": [
            "Requirement already satisfied: tensorflow in /usr/local/lib/python3.10/dist-packages (2.15.0)\n",
            "Requirement already satisfied: absl-py>=1.0.0 in /usr/local/lib/python3.10/dist-packages (from tensorflow) (1.4.0)\n",
            "Requirement already satisfied: astunparse>=1.6.0 in /usr/local/lib/python3.10/dist-packages (from tensorflow) (1.6.3)\n",
            "Requirement already satisfied: flatbuffers>=23.5.26 in /usr/local/lib/python3.10/dist-packages (from tensorflow) (24.3.25)\n",
            "Requirement already satisfied: gast!=0.5.0,!=0.5.1,!=0.5.2,>=0.2.1 in /usr/local/lib/python3.10/dist-packages (from tensorflow) (0.5.4)\n",
            "Requirement already satisfied: google-pasta>=0.1.1 in /usr/local/lib/python3.10/dist-packages (from tensorflow) (0.2.0)\n",
            "Requirement already satisfied: h5py>=2.9.0 in /usr/local/lib/python3.10/dist-packages (from tensorflow) (3.9.0)\n",
            "Requirement already satisfied: libclang>=13.0.0 in /usr/local/lib/python3.10/dist-packages (from tensorflow) (18.1.1)\n",
            "Requirement already satisfied: ml-dtypes~=0.2.0 in /usr/local/lib/python3.10/dist-packages (from tensorflow) (0.2.0)\n",
            "Requirement already satisfied: numpy<2.0.0,>=1.23.5 in /usr/local/lib/python3.10/dist-packages (from tensorflow) (1.25.2)\n",
            "Requirement already satisfied: opt-einsum>=2.3.2 in /usr/local/lib/python3.10/dist-packages (from tensorflow) (3.3.0)\n",
            "Requirement already satisfied: packaging in /usr/local/lib/python3.10/dist-packages (from tensorflow) (24.0)\n",
            "Requirement already satisfied: protobuf!=4.21.0,!=4.21.1,!=4.21.2,!=4.21.3,!=4.21.4,!=4.21.5,<5.0.0dev,>=3.20.3 in /usr/local/lib/python3.10/dist-packages (from tensorflow) (3.20.3)\n",
            "Requirement already satisfied: setuptools in /usr/local/lib/python3.10/dist-packages (from tensorflow) (67.7.2)\n",
            "Requirement already satisfied: six>=1.12.0 in /usr/local/lib/python3.10/dist-packages (from tensorflow) (1.16.0)\n",
            "Requirement already satisfied: termcolor>=1.1.0 in /usr/local/lib/python3.10/dist-packages (from tensorflow) (2.4.0)\n",
            "Requirement already satisfied: typing-extensions>=3.6.6 in /usr/local/lib/python3.10/dist-packages (from tensorflow) (4.11.0)\n",
            "Requirement already satisfied: wrapt<1.15,>=1.11.0 in /usr/local/lib/python3.10/dist-packages (from tensorflow) (1.14.1)\n",
            "Requirement already satisfied: tensorflow-io-gcs-filesystem>=0.23.1 in /usr/local/lib/python3.10/dist-packages (from tensorflow) (0.36.0)\n",
            "Requirement already satisfied: grpcio<2.0,>=1.24.3 in /usr/local/lib/python3.10/dist-packages (from tensorflow) (1.62.1)\n",
            "Requirement already satisfied: tensorboard<2.16,>=2.15 in /usr/local/lib/python3.10/dist-packages (from tensorflow) (2.15.2)\n",
            "Requirement already satisfied: tensorflow-estimator<2.16,>=2.15.0 in /usr/local/lib/python3.10/dist-packages (from tensorflow) (2.15.0)\n",
            "Requirement already satisfied: keras<2.16,>=2.15.0 in /usr/local/lib/python3.10/dist-packages (from tensorflow) (2.15.0)\n",
            "Requirement already satisfied: wheel<1.0,>=0.23.0 in /usr/local/lib/python3.10/dist-packages (from astunparse>=1.6.0->tensorflow) (0.43.0)\n",
            "Requirement already satisfied: google-auth<3,>=1.6.3 in /usr/local/lib/python3.10/dist-packages (from tensorboard<2.16,>=2.15->tensorflow) (2.27.0)\n",
            "Requirement already satisfied: google-auth-oauthlib<2,>=0.5 in /usr/local/lib/python3.10/dist-packages (from tensorboard<2.16,>=2.15->tensorflow) (1.2.0)\n",
            "Requirement already satisfied: markdown>=2.6.8 in /usr/local/lib/python3.10/dist-packages (from tensorboard<2.16,>=2.15->tensorflow) (3.6)\n",
            "Requirement already satisfied: requests<3,>=2.21.0 in /usr/local/lib/python3.10/dist-packages (from tensorboard<2.16,>=2.15->tensorflow) (2.31.0)\n",
            "Requirement already satisfied: tensorboard-data-server<0.8.0,>=0.7.0 in /usr/local/lib/python3.10/dist-packages (from tensorboard<2.16,>=2.15->tensorflow) (0.7.2)\n",
            "Requirement already satisfied: werkzeug>=1.0.1 in /usr/local/lib/python3.10/dist-packages (from tensorboard<2.16,>=2.15->tensorflow) (3.0.2)\n",
            "Requirement already satisfied: cachetools<6.0,>=2.0.0 in /usr/local/lib/python3.10/dist-packages (from google-auth<3,>=1.6.3->tensorboard<2.16,>=2.15->tensorflow) (5.3.3)\n",
            "Requirement already satisfied: pyasn1-modules>=0.2.1 in /usr/local/lib/python3.10/dist-packages (from google-auth<3,>=1.6.3->tensorboard<2.16,>=2.15->tensorflow) (0.4.0)\n",
            "Requirement already satisfied: rsa<5,>=3.1.4 in /usr/local/lib/python3.10/dist-packages (from google-auth<3,>=1.6.3->tensorboard<2.16,>=2.15->tensorflow) (4.9)\n",
            "Requirement already satisfied: requests-oauthlib>=0.7.0 in /usr/local/lib/python3.10/dist-packages (from google-auth-oauthlib<2,>=0.5->tensorboard<2.16,>=2.15->tensorflow) (1.3.1)\n",
            "Requirement already satisfied: charset-normalizer<4,>=2 in /usr/local/lib/python3.10/dist-packages (from requests<3,>=2.21.0->tensorboard<2.16,>=2.15->tensorflow) (3.3.2)\n",
            "Requirement already satisfied: idna<4,>=2.5 in /usr/local/lib/python3.10/dist-packages (from requests<3,>=2.21.0->tensorboard<2.16,>=2.15->tensorflow) (3.6)\n",
            "Requirement already satisfied: urllib3<3,>=1.21.1 in /usr/local/lib/python3.10/dist-packages (from requests<3,>=2.21.0->tensorboard<2.16,>=2.15->tensorflow) (2.0.7)\n",
            "Requirement already satisfied: certifi>=2017.4.17 in /usr/local/lib/python3.10/dist-packages (from requests<3,>=2.21.0->tensorboard<2.16,>=2.15->tensorflow) (2024.2.2)\n",
            "Requirement already satisfied: MarkupSafe>=2.1.1 in /usr/local/lib/python3.10/dist-packages (from werkzeug>=1.0.1->tensorboard<2.16,>=2.15->tensorflow) (2.1.5)\n",
            "Requirement already satisfied: pyasn1<0.7.0,>=0.4.6 in /usr/local/lib/python3.10/dist-packages (from pyasn1-modules>=0.2.1->google-auth<3,>=1.6.3->tensorboard<2.16,>=2.15->tensorflow) (0.6.0)\n",
            "Requirement already satisfied: oauthlib>=3.0.0 in /usr/local/lib/python3.10/dist-packages (from requests-oauthlib>=0.7.0->google-auth-oauthlib<2,>=0.5->tensorboard<2.16,>=2.15->tensorflow) (3.2.2)\n"
          ]
        }
      ]
    },
    {
      "cell_type": "code",
      "execution_count": 3,
      "metadata": {
        "id": "uCERUSloZ10s"
      },
      "outputs": [],
      "source": [
        "import os\n",
        "\n",
        "import random\n",
        "import pandas as pd\n",
        "\n",
        "import matplotlib.pyplot as plt\n",
        "\n",
        "from PIL import Image\n",
        "\n"
      ]
    },
    {
      "cell_type": "code",
      "source": [
        "from tensorflow import keras"
      ],
      "metadata": {
        "id": "f66ThQtB0Bar"
      },
      "execution_count": 4,
      "outputs": []
    },
    {
      "cell_type": "code",
      "source": [
        "from keras.preprocessing.image import img_to_array\n",
        "from keras.applications.imagenet_utils import preprocess_input\n",
        "from keras.preprocessing.image import ImageDataGenerator\n",
        "from keras.models import Sequential\n",
        "from keras.layers import Conv2D, MaxPooling2D, Flatten, Dense, Dropout, Input, BatchNormalization\n",
        "from keras.optimizers import RMSprop\n",
        "from keras.regularizers import l2"
      ],
      "metadata": {
        "id": "Ls7dwKkazU2l"
      },
      "execution_count": 5,
      "outputs": []
    },
    {
      "cell_type": "markdown",
      "source": [],
      "metadata": {
        "id": "pYWdHWKDTv91"
      }
    },
    {
      "cell_type": "code",
      "source": [
        "from google.colab import drive\n",
        "drive.mount('/content/drive')"
      ],
      "metadata": {
        "colab": {
          "base_uri": "https://localhost:8080/"
        },
        "id": "lOA2183_Twx_",
        "outputId": "f0575f01-c815-49b9-f85f-2fc3d9f1e921"
      },
      "execution_count": 6,
      "outputs": [
        {
          "output_type": "stream",
          "name": "stdout",
          "text": [
            "Mounted at /content/drive\n"
          ]
        }
      ]
    },
    {
      "cell_type": "markdown",
      "source": [],
      "metadata": {
        "id": "RRfD1lwbeQEU"
      }
    },
    {
      "cell_type": "code",
      "source": [
        "'''\n",
        "Create a convolutional neural network model(CNN) :\n",
        "With one separate input layer, three convolutional layers and a maximum pooling layer\n",
        "'''\n",
        "\n",
        "model = Sequential()\n",
        "\n",
        "model.add(Input(shape=(224, 224, 3)))\n",
        "\n",
        "model.add(Conv2D(32, (3, 3), activation='relu'))\n",
        "model.add(MaxPooling2D((2, 2)))\n",
        "\n",
        "model.add(Conv2D(64, (3, 3), activation='relu'))\n",
        "model.add(MaxPooling2D((2, 2)))\n",
        "\n",
        "model.add(Conv2D(128, (3, 3), activation='relu'))\n",
        "model.add(MaxPooling2D((2, 2)))\n",
        "\n",
        "model.add(Conv2D(128, (3, 3), activation='relu'))\n",
        "model.add(MaxPooling2D((2, 2)))\n",
        "# Flattenning 3D feature maps into 1D vectors\n",
        "model.add(Flatten())\n",
        "\n",
        "# Add full connectivity layer\n",
        "model.add(Dense(512, activation='relu'))\n",
        "\n",
        "# Add Dropout layer to prevent overfitting\n",
        "model.add(Dropout(0.5))\n",
        "\n",
        "# Add a fully connected layer and apply L2 regularization\n",
        "model.add(Dense(512, activation='relu', kernel_regularizer=l2(0.001)))\n",
        "\n",
        "# Output layer, outputs classification results(there are 15 dog breed categories)\n",
        "model.add(Dense(15, activation='softmax'))\n",
        "\n",
        "# compiling the model\n",
        "model.compile(optimizer='adam', loss='categorical_crossentropy',\n",
        "                      metrics=['accuracy'])\n",
        "\n",
        "# Printed Model Structures\n",
        "# model.summary()\n",
        "#return model"
      ],
      "metadata": {
        "id": "-u0aTqOyaCb7"
      },
      "execution_count": 7,
      "outputs": []
    },
    {
      "cell_type": "markdown",
      "source": [],
      "metadata": {
        "id": "yflu3OcDeRB4"
      }
    },
    {
      "cell_type": "code",
      "source": [
        "def show_train_history(train_history, train, validation):\n",
        "  train_acc = train_history.history['accuracy']\n",
        "  val_acc = train_history.history['val_accuracy']\n",
        "\n",
        "  plt.plot(range(1, len(train_acc) + 1), train_acc, label='Training Accuracy')\n",
        "  plt.plot(range(1, len(val_acc) + 1), val_acc, label='Validation Accuracy')\n",
        "  plt.title('Training and Validation Accuracy')\n",
        "  plt.xlabel('Epochs')\n",
        "  plt.ylabel('Accuracy')\n",
        "  plt.legend()\n",
        "  plt.show()"
      ],
      "metadata": {
        "id": "rMUMyeJhFEZN"
      },
      "execution_count": 8,
      "outputs": []
    },
    {
      "cell_type": "markdown",
      "source": [],
      "metadata": {
        "id": "dP39nO47FE5R"
      }
    },
    {
      "cell_type": "code",
      "source": [
        "from keras.callbacks import ReduceLROnPlateau\n",
        "learning_rate_function = ReduceLROnPlateau(monitor='val_accuracy',\n",
        "                patience=3,\n",
        "                verbose=1,\n",
        "                factor=0.5,\n",
        "                min_lr=0.00001)"
      ],
      "metadata": {
        "id": "99aTTPVGS-dp"
      },
      "execution_count": 9,
      "outputs": []
    },
    {
      "cell_type": "markdown",
      "source": [],
      "metadata": {
        "id": "ocYS-eVwS_EW"
      }
    },
    {
      "cell_type": "code",
      "source": [
        "#def train(train_dir, valid_dir, batch_size, epochs):\n",
        "\n",
        "train_dir = '/content/drive/MyDrive/archive/train'\n",
        "valid_dir = '/content/drive/MyDrive/archive/valid'\n",
        "\n",
        "batch_size = 100\n",
        "epochs = 20\n",
        "\n",
        "# Preprocessing and enhancement of training and validation data\n",
        "train_datagen = ImageDataGenerator(\n",
        "            rescale=1./255, shear_range=0.2, zoom_range=0.2, horizontal_flip=True)\n",
        "valid_datagen = ImageDataGenerator(rescale=1./255)\n",
        "\n",
        "# Generating data streams for training and validation sets\n",
        "train_generator = train_datagen.flow_from_directory(\n",
        "            train_dir,\n",
        "            target_size=(224, 224),\n",
        "            batch_size=batch_size,\n",
        "            class_mode='categorical'\n",
        "        )\n",
        "\n",
        "valid_generator = valid_datagen.flow_from_directory(\n",
        "            valid_dir,\n",
        "            target_size=(224, 224),\n",
        "            batch_size=batch_size,\n",
        "            class_mode='categorical'\n",
        "        )\n",
        "\n",
        "# Training the model\n",
        "train_history = model.fit(\n",
        "            train_generator,\n",
        "            steps_per_epoch=min(train_generator.samples // batch_size, 150),\n",
        "            epochs=epochs,\n",
        "            validation_data=valid_generator,\n",
        "            validation_steps=valid_generator.samples // batch_size,\n",
        "            callbacks=[learning_rate_function]\n",
        "        )\n"
      ],
      "metadata": {
        "id": "KHe-avw7bZrv",
        "colab": {
          "base_uri": "https://localhost:8080/"
        },
        "outputId": "32482061-a7af-48d6-c70a-9d4dd71659fe"
      },
      "execution_count": 10,
      "outputs": [
        {
          "output_type": "stream",
          "name": "stdout",
          "text": [
            "Found 1714 images belonging to 15 classes.\n",
            "Found 150 images belonging to 15 classes.\n",
            "Epoch 1/20\n",
            "17/17 [==============================] - 804s 47s/step - loss: 3.1349 - accuracy: 0.1072 - val_loss: 2.9738 - val_accuracy: 0.1300 - lr: 0.0010\n",
            "Epoch 2/20\n",
            "17/17 [==============================] - 21s 1s/step - loss: 2.8876 - accuracy: 0.1326 - val_loss: 2.7747 - val_accuracy: 0.1400 - lr: 0.0010\n",
            "Epoch 3/20\n",
            "17/17 [==============================] - 21s 1s/step - loss: 2.6601 - accuracy: 0.1772 - val_loss: 2.5364 - val_accuracy: 0.1600 - lr: 0.0010\n",
            "Epoch 4/20\n",
            "17/17 [==============================] - 21s 1s/step - loss: 2.5094 - accuracy: 0.2100 - val_loss: 2.4881 - val_accuracy: 0.2000 - lr: 0.0010\n",
            "Epoch 5/20\n",
            "17/17 [==============================] - 21s 1s/step - loss: 2.3708 - accuracy: 0.2515 - val_loss: 2.3985 - val_accuracy: 0.3000 - lr: 0.0010\n",
            "Epoch 6/20\n",
            "17/17 [==============================] - 21s 1s/step - loss: 2.2463 - accuracy: 0.2949 - val_loss: 2.1941 - val_accuracy: 0.3100 - lr: 0.0010\n",
            "Epoch 7/20\n",
            "17/17 [==============================] - 21s 1s/step - loss: 2.3042 - accuracy: 0.2844 - val_loss: 2.2575 - val_accuracy: 0.3300 - lr: 0.0010\n",
            "Epoch 8/20\n",
            "17/17 [==============================] - 21s 1s/step - loss: 2.1645 - accuracy: 0.3253 - val_loss: 2.2612 - val_accuracy: 0.2300 - lr: 0.0010\n",
            "Epoch 9/20\n",
            "17/17 [==============================] - 21s 1s/step - loss: 2.1441 - accuracy: 0.3172 - val_loss: 1.9923 - val_accuracy: 0.3800 - lr: 0.0010\n",
            "Epoch 10/20\n",
            "17/17 [==============================] - 21s 1s/step - loss: 1.9860 - accuracy: 0.3699 - val_loss: 1.8603 - val_accuracy: 0.4600 - lr: 0.0010\n",
            "Epoch 11/20\n",
            "17/17 [==============================] - 21s 1s/step - loss: 1.8834 - accuracy: 0.4263 - val_loss: 1.9159 - val_accuracy: 0.4300 - lr: 0.0010\n",
            "Epoch 12/20\n",
            "17/17 [==============================] - 21s 1s/step - loss: 1.8004 - accuracy: 0.4380 - val_loss: 1.5777 - val_accuracy: 0.5100 - lr: 0.0010\n",
            "Epoch 13/20\n",
            "17/17 [==============================] - 21s 1s/step - loss: 1.6924 - accuracy: 0.4535 - val_loss: 1.6118 - val_accuracy: 0.5100 - lr: 0.0010\n",
            "Epoch 14/20\n",
            "17/17 [==============================] - 21s 1s/step - loss: 1.6386 - accuracy: 0.4864 - val_loss: 1.6486 - val_accuracy: 0.5000 - lr: 0.0010\n",
            "Epoch 15/20\n",
            "17/17 [==============================] - 21s 1s/step - loss: 1.5618 - accuracy: 0.5043 - val_loss: 1.4587 - val_accuracy: 0.5800 - lr: 0.0010\n",
            "Epoch 16/20\n",
            "17/17 [==============================] - 21s 1s/step - loss: 1.5081 - accuracy: 0.5366 - val_loss: 1.4080 - val_accuracy: 0.5300 - lr: 0.0010\n",
            "Epoch 17/20\n",
            "17/17 [==============================] - 21s 1s/step - loss: 1.4490 - accuracy: 0.5657 - val_loss: 1.3360 - val_accuracy: 0.6000 - lr: 0.0010\n",
            "Epoch 18/20\n",
            "17/17 [==============================] - 22s 1s/step - loss: 1.3137 - accuracy: 0.6000 - val_loss: 1.3718 - val_accuracy: 0.6200 - lr: 0.0010\n",
            "Epoch 19/20\n",
            "17/17 [==============================] - 21s 1s/step - loss: 1.3695 - accuracy: 0.5911 - val_loss: 1.5202 - val_accuracy: 0.5100 - lr: 0.0010\n",
            "Epoch 20/20\n",
            "17/17 [==============================] - 21s 1s/step - loss: 1.3867 - accuracy: 0.5620 - val_loss: 1.2742 - val_accuracy: 0.6000 - lr: 0.0010\n"
          ]
        }
      ]
    },
    {
      "cell_type": "markdown",
      "source": [],
      "metadata": {
        "id": "s1f9SVr6FTkU"
      }
    },
    {
      "cell_type": "code",
      "source": [
        "# Calculating accuracy\n",
        "scores = model.evaluate(\n",
        "            valid_generator, steps=valid_generator.samples // batch_size)\n",
        "validation_accuracy = scores[1] * 100\n",
        "\n",
        "print(\"\\nValid set Accuracy: %.2f%%\\n\" % validation_accuracy)"
      ],
      "metadata": {
        "colab": {
          "base_uri": "https://localhost:8080/"
        },
        "id": "cyr2NYMdFUbh",
        "outputId": "8af3beda-8917-4b7d-8cb6-f2a6233b4a23"
      },
      "execution_count": 20,
      "outputs": [
        {
          "output_type": "stream",
          "name": "stdout",
          "text": [
            "1/1 [==============================] - 0s 451ms/step - loss: 1.2617 - accuracy: 0.6100\n",
            "\n",
            "Valid set Accuracy: 61.00%\n",
            "\n"
          ]
        }
      ]
    },
    {
      "cell_type": "markdown",
      "source": [],
      "metadata": {
        "id": "zwd5imMcFaMh"
      }
    },
    {
      "cell_type": "code",
      "source": [
        "show_train_history(train_history, 'accuracy', 'val_accuracy')"
      ],
      "metadata": {
        "colab": {
          "base_uri": "https://localhost:8080/",
          "height": 472
        },
        "id": "RH3_0U13Fa5h",
        "outputId": "de428da7-f313-4792-c234-ba5fca055ef0"
      },
      "execution_count": 22,
      "outputs": [
        {
          "output_type": "display_data",
          "data": {
            "text/plain": [
              "<Figure size 640x480 with 1 Axes>"
            ],
            "image/png": "[encoded data removed]"
          },
          "metadata": {}
        }
      ]
    },
    {
      "cell_type": "markdown",
      "source": [],
      "metadata": {
        "id": "KO5_ymTLeR2g"
      }
    },
    {
      "cell_type": "markdown",
      "source": [],
      "metadata": {
        "id": "5RzN1BbYeSn8"
      }
    },
    {
      "cell_type": "code",
      "source": [
        "def center_crop_image(img):\n",
        "  '''\n",
        "  Pre-processing of images, with different sized images as input,\n",
        "          and centered cropped images as output.\n",
        "  '''\n",
        "\n",
        "  width, height = img.size\n",
        "  new_width = new_height = min(width, height)\n",
        "  left = (width - new_width) // 2\n",
        "  top = (height - new_height) // 2\n",
        "  right = (width + new_width) // 2\n",
        "  bottom = (height + new_height) // 2\n",
        "\n",
        "  return img.crop((left, top, right, bottom))"
      ],
      "metadata": {
        "id": "6KWjLmV8bvdt"
      },
      "execution_count": 13,
      "outputs": []
    },
    {
      "cell_type": "markdown",
      "source": [],
      "metadata": {
        "id": "_Z-aG56VeTDA"
      }
    },
    {
      "cell_type": "code",
      "source": [
        "def get_predicted_breed(self, predictions):\n",
        "  '''\n",
        "  To get the dog breed name based on the model predictions,\n",
        "  assume that predictions is the result of the model's prediction of the image,\n",
        "  determine the predicted breed based on the index of the highest probability in the probability vector\n",
        "  '''\n",
        "\n",
        "  class_names = [\"Airedale\", \"Beagle\", \"Bloodhound\", \"Bluetick\", \"Chihuahua\", \"Collie\", \"Dingo\",\n",
        "                            \"French Bulldog\", \"German Sheperd\", \"Malinois\", \"Newfoundland\", \"Pekinese\",\n",
        "                            \"Pomeranian\", \"Pug\", \"Vizsla\"]\n",
        "\n",
        "  breed_index = predictions.argmax()\n",
        "  breed_name = class_names[breed_index]\n",
        "\n",
        "  return breed_name"
      ],
      "metadata": {
        "id": "H4pgwTMZb1Re"
      },
      "execution_count": 14,
      "outputs": []
    },
    {
      "cell_type": "markdown",
      "source": [],
      "metadata": {
        "id": "qHawuyEeeTxm"
      }
    },
    {
      "cell_type": "code",
      "source": [
        "def test(test_dir):\n",
        "\n",
        "  # Getting test set file address\n",
        "  test_files = os.listdir(test_dir)\n",
        "  # To be fair, the order of access is randomized.\n",
        "  random.shuffle(test_files)\n",
        "\n",
        "  test_results = []\n",
        "\n",
        "  for file_name in test_files:\n",
        "\n",
        "    # Load image with center crop and preprocessing\n",
        "    img_path = os.path.join(test_dir, file_name)\n",
        "    img = Image.open(img_path)\n",
        "    # Center Cropped Image\n",
        "    img = center_crop_image(img)\n",
        "    # resize\n",
        "    img = img.resize((224, 224))\n",
        "    img_array = img_to_array(img)\n",
        "    img_array = preprocess_input(img_array)\n",
        "    img_array = img_array.reshape((1,) + img_array.shape)\n",
        "\n",
        "    # Making predictions about the image\n",
        "    predictions = model.predict(img_array)\n",
        "    predicted_breed = get_predicted_breed(predictions)\n",
        "\n",
        "    test_results.append((file_name, predicted_breed))\n",
        "\n",
        "    # Output results into Excel(no need title)\n",
        "    df = pd.DataFrame(test_results, columns=[\n",
        "                          'File Name', 'Predicted Breed'])\n",
        "    df.to_excel('test_data.xlsx', index=False, header=False)\n",
        "\n",
        "    #s = \"Test results saved to test_data.xlsx\"\n",
        "    #s"
      ],
      "metadata": {
        "id": "WQy9Mqhdb6bf"
      },
      "execution_count": 15,
      "outputs": []
    },
    {
      "cell_type": "markdown",
      "source": [],
      "metadata": {
        "id": "muN5HkBFeUyg"
      }
    },
    {
      "cell_type": "code",
      "source": [
        "def main():\n",
        "    train_dir = '/content/drive/MyDrive/archive/train'\n",
        "    valid_dir = '/content/drive/MyDrive/archive/valid'\n",
        "    test_dir = '/content/drive/MyDrive/archive/testing_set'\n",
        "    batch_size = 32\n",
        "    epochs = 10\n",
        "\n",
        "    #build_model()\n",
        "    #train(train_dir, valid_dir, batch_size, epochs)\n",
        "    #evaluate(valid_dir, batch_size)\n",
        "    #test(test_dir)\n",
        "\n",
        "\n",
        "if __name__ == \"__main__\":\n",
        "    main()"
      ],
      "metadata": {
        "id": "OCRuSHPaeKYn"
      },
      "execution_count": 16,
      "outputs": []
    },
    {
      "cell_type": "code",
      "source": [
        "gpu_info = !nvidia-smi\n",
        "gpu_info = '\\n'.join(gpu_info)\n",
        "if gpu_info.find('failed') >= 0:\n",
        "  print('Not connected to a GPU')\n",
        "else:\n",
        "  print(gpu_info)"
      ],
      "metadata": {
        "colab": {
          "base_uri": "https://localhost:8080/"
        },
        "id": "CfvICLQ1NG0B",
        "outputId": "f24abf2b-48bc-4c6a-c661-4180b922cb9f"
      },
      "execution_count": 17,
      "outputs": [
        {
          "output_type": "stream",
          "name": "stdout",
          "text": [
            "Sun Apr 14 12:00:24 2024       \n",
            "+---------------------------------------------------------------------------------------+\n",
            "| NVIDIA-SMI 535.104.05             Driver Version: 535.104.05   CUDA Version: 12.2     |\n",
            "|-----------------------------------------+----------------------+----------------------+\n",
            "| GPU  Name                 Persistence-M | Bus-Id        Disp.A | Volatile Uncorr. ECC |\n",
            "| Fan  Temp   Perf          Pwr:Usage/Cap |         Memory-Usage | GPU-Util  Compute M. |\n",
            "|                                         |                      |               MIG M. |\n",
            "|=========================================+======================+======================|\n",
            "|   0  Tesla V100-SXM2-16GB           Off | 00000000:00:04.0 Off |                    0 |\n",
            "| N/A   34C    P0              40W / 300W |   9042MiB / 16384MiB |      0%      Default |\n",
            "|                                         |                      |                  N/A |\n",
            "+-----------------------------------------+----------------------+----------------------+\n",
            "                                                                                         \n",
            "+---------------------------------------------------------------------------------------+\n",
            "| Processes:                                                                            |\n",
            "|  GPU   GI   CI        PID   Type   Process name                            GPU Memory |\n",
            "|        ID   ID                                                             Usage      |\n",
            "|=======================================================================================|\n",
            "+---------------------------------------------------------------------------------------+\n"
          ]
        }
      ]
    }
  ],
  "metadata": {
    "language_info": {
      "name": "python"
    },
    "colab": {
      "provenance": [],
      "machine_shape": "hm",
      "gpuType": "V100",
      "include_colab_link": true
    },
    "kernelspec": {
      "name": "python3",
      "display_name": "Python 3"
    },
    "accelerator": "GPU"
  },
  "nbformat": 4,
  "nbformat_minor": 0
}